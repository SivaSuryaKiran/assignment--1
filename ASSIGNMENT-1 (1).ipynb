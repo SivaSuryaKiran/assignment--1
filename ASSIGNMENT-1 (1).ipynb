{
 "cells": [
  {
   "cell_type": "markdown",
   "id": "f2eceb32",
   "metadata": {},
   "source": [
    "# ASSIGNMENT - 1 "
   ]
  },
  {
   "cell_type": "code",
   "execution_count": 2,
   "id": "13ac40f9",
   "metadata": {},
   "outputs": [],
   "source": [
    "#1.A) *,+,-,/ are expressions\n",
    "#      'hello',-87.8,6 are values.\n"
   ]
  },
  {
   "cell_type": "code",
   "execution_count": null,
   "id": "a044730f",
   "metadata": {},
   "outputs": [],
   "source": [
    "# 2.A) variable is used to store or assign a value to it.Whereas string is a data which can be assigned to a variable ."
   ]
  },
  {
   "cell_type": "code",
   "execution_count": null,
   "id": "8606cc17",
   "metadata": {},
   "outputs": [],
   "source": [
    "#3.A) INTEGER: Integers are numeric values without a decimal point .These can be               negative values also .\n",
    "#    STRING:  String is a data type which can be enclosed in a single or double\n",
    "#             qoutes.Any data which  enclosed between the qoutes are strings.\n",
    "#     FLOAT:   Float is a data type in which numbers contains a decimal point in               between them    "
   ]
  },
  {
   "cell_type": "code",
   "execution_count": 4,
   "id": "a1a14ece",
   "metadata": {},
   "outputs": [],
   "source": [
    "#4.A) EXPRESSIONS: Expressons are made up of opeartors and operands which later                   produce a value\n",
    "#     expressions evalautes an sequence of operators and operands then it will        produce a value.\n",
    "#     EG:a*b"
   ]
  },
  {
   "cell_type": "code",
   "execution_count": null,
   "id": "46ee1d48",
   "metadata": {},
   "outputs": [],
   "source": [
    "# 5.A) expressions produce a value when it completes evaluating it.\n",
    "#     statement executes only aat runtime."
   ]
  },
  {
   "cell_type": "code",
   "execution_count": 7,
   "id": "b96761e1",
   "metadata": {},
   "outputs": [
    {
     "data": {
      "text/plain": [
       "'spamspamspam'"
      ]
     },
     "execution_count": 7,
     "metadata": {},
     "output_type": "execute_result"
    }
   ],
   "source": [
    "#6.A)\n",
    "\"spam\"+\"spamspam\"\n"
   ]
  },
  {
   "cell_type": "code",
   "execution_count": 8,
   "id": "0b3efe33",
   "metadata": {},
   "outputs": [
    {
     "data": {
      "text/plain": [
       "'spamspamspam'"
      ]
     },
     "execution_count": 8,
     "metadata": {},
     "output_type": "execute_result"
    }
   ],
   "source": [
    "\"spam\"*3"
   ]
  },
  {
   "cell_type": "code",
   "execution_count": null,
   "id": "41545362",
   "metadata": {},
   "outputs": [],
   "source": [
    "#8.A)In python variable are start with alphabet or with symbols like underscore.Compiler will not accept integer as a variable"
   ]
  },
  {
   "cell_type": "code",
   "execution_count": null,
   "id": "baf6e03c",
   "metadata": {},
   "outputs": [],
   "source": [
    "#9.A) int(), float(), str()"
   ]
  },
  {
   "cell_type": "code",
   "execution_count": null,
   "id": "fca4c88e",
   "metadata": {},
   "outputs": [],
   "source": [
    "#10.A) 'I have eaten' + 99 +'burritos'\n",
    "#       In the above expression 99 is integer, str and int objets cannot concatenate . \n",
    "#      By enclosing 99 in quotes error can be rectified."
   ]
  },
  {
   "cell_type": "code",
   "execution_count": 14,
   "id": "9c19ca3a",
   "metadata": {},
   "outputs": [
    {
     "data": {
      "text/plain": [
       "'I have eaten 99 Burritos'"
      ]
     },
     "execution_count": 14,
     "metadata": {},
     "output_type": "execute_result"
    }
   ],
   "source": [
    "'I have eaten' + ' 99 '+'Burritos'"
   ]
  }
 ],
 "metadata": {
  "kernelspec": {
   "display_name": "Python 3 (ipykernel)",
   "language": "python",
   "name": "python3"
  },
  "language_info": {
   "codemirror_mode": {
    "name": "ipython",
    "version": 3
   },
   "file_extension": ".py",
   "mimetype": "text/x-python",
   "name": "python",
   "nbconvert_exporter": "python",
   "pygments_lexer": "ipython3",
   "version": "3.9.7"
  }
 },
 "nbformat": 4,
 "nbformat_minor": 5
}
